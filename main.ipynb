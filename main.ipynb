{
 "cells": [
  {
   "cell_type": "code",
   "execution_count": 1,
   "metadata": {},
   "outputs": [],
   "source": [
    "import time\n",
    "import os\n",
    "import random\n",
    "import numpy as np\n",
    "import pandas as pd\n",
    "from tqdm import tqdm\n",
    "import paddle\n",
    "import paddle.nn as nn\n",
    "import paddlenlp as ppnlp\n",
    "from functools import partial\n",
    "from paddlenlp.datasets import load_dataset\n",
    "from paddlenlp.transformers import LinearDecayWithWarmup\n",
    "from sklearn.model_selection import train_test_split\n",
    "import matplotlib.pyplot as plt\n",
    "import seaborn as sns\n",
    "# 解决中文乱码\n",
    "plt.rcParams['font.sans-serif'] = ['SimHei'] # 用于正常显示中文标签\n",
    "plt.rcParams['axes.unicode_minus'] = False # 用于正常显示正负号\n"
   ]
  },
  {
   "cell_type": "code",
   "execution_count": 2,
   "metadata": {},
   "outputs": [
    {
     "data": {
      "text/html": [
       "<div>\n",
       "<style scoped>\n",
       "    .dataframe tbody tr th:only-of-type {\n",
       "        vertical-align: middle;\n",
       "    }\n",
       "\n",
       "    .dataframe tbody tr th {\n",
       "        vertical-align: top;\n",
       "    }\n",
       "\n",
       "    .dataframe thead th {\n",
       "        text-align: right;\n",
       "    }\n",
       "</style>\n",
       "<table border=\"1\" class=\"dataframe\">\n",
       "  <thead>\n",
       "    <tr style=\"text-align: right;\">\n",
       "      <th></th>\n",
       "      <th>id</th>\n",
       "      <th>age</th>\n",
       "      <th>diseaseName</th>\n",
       "      <th>conditionDesc</th>\n",
       "      <th>title</th>\n",
       "      <th>hopeHelp</th>\n",
       "      <th>label_i</th>\n",
       "      <th>label_j</th>\n",
       "    </tr>\n",
       "  </thead>\n",
       "  <tbody>\n",
       "    <tr>\n",
       "      <th>0</th>\n",
       "      <td>0</td>\n",
       "      <td>20+</td>\n",
       "      <td>刨腹产可以养三胎吗？</td>\n",
       "      <td>刨腹产可以养三胎吗？希望医生能帮我看看，谢谢！</td>\n",
       "      <td>刨腹产可以养三胎吗？</td>\n",
       "      <td>前两个都是刨腹产，时间已经隔了有6年了，前两个都很顺利，想问问医生现在可以养三胎吗？</td>\n",
       "      <td>1</td>\n",
       "      <td>8</td>\n",
       "    </tr>\n",
       "    <tr>\n",
       "      <th>1</th>\n",
       "      <td>1</td>\n",
       "      <td>20+</td>\n",
       "      <td>右膝前交叉韧带断裂，半月板三度重度损伤</td>\n",
       "      <td>右膝受力小腿骨和大腿骨就会滑开，走路会有隐隐作痛</td>\n",
       "      <td>大概做韧带重建手术需要多少费用？</td>\n",
       "      <td>大概做韧带重建手术需要多少费用？</td>\n",
       "      <td>18</td>\n",
       "      <td>57</td>\n",
       "    </tr>\n",
       "    <tr>\n",
       "      <th>2</th>\n",
       "      <td>2</td>\n",
       "      <td>30+</td>\n",
       "      <td>没有不适，就是左眼球有红色充血</td>\n",
       "      <td>昨天我朋友跟我说，我的左眼睛有红色的问我怎么啦，我自己都不知道，所以现在问医生看需要去医院吗...</td>\n",
       "      <td>需要怎么治疗</td>\n",
       "      <td>需要怎么治疗</td>\n",
       "      <td>15</td>\n",
       "      <td>45</td>\n",
       "    </tr>\n",
       "    <tr>\n",
       "      <th>3</th>\n",
       "      <td>3</td>\n",
       "      <td>30+</td>\n",
       "      <td>腿摔了</td>\n",
       "      <td>一个月前从摩托上摔下来了，拍了片子和核磁共振，打的石膏，腿直不了</td>\n",
       "      <td>腿可能这辈子就瘸了</td>\n",
       "      <td>请医生给我一些治疗上的建议，目前病情是否需要手术？，是否需要就诊？就诊前做哪些准备？</td>\n",
       "      <td>18</td>\n",
       "      <td>58</td>\n",
       "    </tr>\n",
       "    <tr>\n",
       "      <th>4</th>\n",
       "      <td>4</td>\n",
       "      <td>30+</td>\n",
       "      <td>体检单问题</td>\n",
       "      <td>偶尔会拉肚子或便秘 胃肠偶尔不舒服 没有疼痛感</td>\n",
       "      <td>体检单问题咨询 需要治疗吗</td>\n",
       "      <td>单位体检遇到的问题</td>\n",
       "      <td>2</td>\n",
       "      <td>-1</td>\n",
       "    </tr>\n",
       "  </tbody>\n",
       "</table>\n",
       "</div>"
      ],
      "text/plain": [
       "   id  age          diseaseName  \\\n",
       "0   0  20+           刨腹产可以养三胎吗？   \n",
       "1   1  20+  右膝前交叉韧带断裂，半月板三度重度损伤   \n",
       "2   2  30+      没有不适，就是左眼球有红色充血   \n",
       "3   3  30+                  腿摔了   \n",
       "4   4  30+                体检单问题   \n",
       "\n",
       "                                       conditionDesc             title  \\\n",
       "0                            刨腹产可以养三胎吗？希望医生能帮我看看，谢谢！        刨腹产可以养三胎吗？   \n",
       "1                           右膝受力小腿骨和大腿骨就会滑开，走路会有隐隐作痛  大概做韧带重建手术需要多少费用？   \n",
       "2  昨天我朋友跟我说，我的左眼睛有红色的问我怎么啦，我自己都不知道，所以现在问医生看需要去医院吗...           需要怎么治疗　   \n",
       "3                   一个月前从摩托上摔下来了，拍了片子和核磁共振，打的石膏，腿直不了         腿可能这辈子就瘸了   \n",
       "4                            偶尔会拉肚子或便秘 胃肠偶尔不舒服 没有疼痛感     体检单问题咨询 需要治疗吗   \n",
       "\n",
       "                                     hopeHelp  label_i  label_j  \n",
       "0  前两个都是刨腹产，时间已经隔了有6年了，前两个都很顺利，想问问医生现在可以养三胎吗？        1        8  \n",
       "1                            大概做韧带重建手术需要多少费用？       18       57  \n",
       "2                                      需要怎么治疗       15       45  \n",
       "3  请医生给我一些治疗上的建议，目前病情是否需要手术？，是否需要就诊？就诊前做哪些准备？       18       58  \n",
       "4                                   单位体检遇到的问题        2       -1  "
      ]
     },
     "execution_count": 2,
     "metadata": {},
     "output_type": "execute_result"
    }
   ],
   "source": [
    "train = pd.read_excel('data/data_train.xlsx')\n",
    "test = pd.read_excel('data/data_test.xlsx')\n",
    "train.head(5)"
   ]
  },
  {
   "cell_type": "code",
   "execution_count": 3,
   "metadata": {},
   "outputs": [
    {
     "name": "stdout",
     "output_type": "stream",
     "text": [
      "<class 'pandas.core.frame.DataFrame'>\n",
      "RangeIndex: 22868 entries, 0 to 22867\n",
      "Data columns (total 8 columns):\n",
      " #   Column         Non-Null Count  Dtype \n",
      "---  ------         --------------  ----- \n",
      " 0   id             22868 non-null  int64 \n",
      " 1   age            22868 non-null  object\n",
      " 2   diseaseName    22868 non-null  object\n",
      " 3   conditionDesc  22868 non-null  object\n",
      " 4   title          21627 non-null  object\n",
      " 5   hopeHelp       21182 non-null  object\n",
      " 6   label_i        22868 non-null  int64 \n",
      " 7   label_j        22868 non-null  int64 \n",
      "dtypes: int64(3), object(5)\n",
      "memory usage: 1.4+ MB\n"
     ]
    }
   ],
   "source": [
    "# 查看数据详细信息，检查缺失情况\n",
    "train.info()"
   ]
  },
  {
   "cell_type": "code",
   "execution_count": 4,
   "metadata": {},
   "outputs": [
    {
     "data": {
      "image/png": "[encoded data removed]",
      "text/plain": [
       "<Figure size 432x288 with 1 Axes>"
      ]
     },
     "metadata": {
      "needs_background": "light"
     },
     "output_type": "display_data"
    }
   ],
   "source": [
    "%matplotlib inline\n",
    "# 统计 label_i的数目\n",
    "sns.countplot(x='label_i', data=train)\n",
    "plt.show()"
   ]
  },
  {
   "cell_type": "code",
   "execution_count": 5,
   "metadata": {},
   "outputs": [
    {
     "data": {
      "image/png": "[encoded data removed]",
      "text/plain": [
       "<Figure size 1152x576 with 1 Axes>"
      ]
     },
     "metadata": {
      "needs_background": "light"
     },
     "output_type": "display_data"
    }
   ],
   "source": [
    "%matplotlib inline\n",
    "# 统计label_j\n",
    "plt.figure(figsize=(16, 8))\n",
    "sns.countplot(x='label_j', data=train)\n",
    "plt.show()"
   ]
  },
  {
   "cell_type": "code",
   "execution_count": 9,
   "metadata": {},
   "outputs": [
    {
     "name": "stdout",
     "output_type": "stream",
     "text": [
      "266\n"
     ]
    },
    {
     "data": {
      "text/plain": [
       "<AxesSubplot:xlabel='text_length', ylabel='Density'>"
      ]
     },
     "execution_count": 9,
     "metadata": {},
     "output_type": "execute_result"
    },
    {
     "data": {
      "image/png": "[encoded data removed]",
      "text/plain": [
       "<Figure size 432x288 with 1 Axes>"
      ]
     },
     "metadata": {
      "needs_background": "light"
     },
     "output_type": "display_data"
    }
   ],
   "source": [
    "%matplotlib inline\n",
    "# 统计文本长度\n",
    "merge_col = ['diseaseName', 'conditionDesc', 'title', 'hopeHelp']\n",
    "train['text_length'] = [len(''.join([str(rows[jol]) for jol in merge_col])) for _, rows in train.iterrows()]\n",
    "print(train['text_length'].max())\n",
    "sns.distplot(train['text_length'], bins=10)\n"
   ]
  },
  {
   "cell_type": "markdown",
   "metadata": {},
   "source": [
    "分析：\n",
    "- 多个字段存在数据缺失\n",
    "- 标签类别不平衡\n",
    "- 长度最大值小于266，文本截断长度取256？\n"
   ]
  },
  {
   "cell_type": "markdown",
   "metadata": {},
   "source": [
    "## 数据预处理"
   ]
  },
  {
   "cell_type": "code",
   "execution_count": 10,
   "metadata": {},
   "outputs": [],
   "source": [
    "seed = 1234\n",
    "\n",
    "# 设置随机种子 固定结果\n",
    "def set_seed(seed):\n",
    "    np.random.seed(seed)\n",
    "    random.seed(seed)\n",
    "    paddle.seed(seed)\n",
    "\n",
    "set_seed(seed)"
   ]
  },
  {
   "cell_type": "markdown",
   "metadata": {},
   "source": [
    "步骤：\n",
    "- 填补缺失值\n",
    "- 拼接文本内容\n",
    "- 划分数据集\n",
    "- 转换为bert编码格式"
   ]
  },
  {
   "cell_type": "code",
   "execution_count": 13,
   "metadata": {},
   "outputs": [
    {
     "name": "stdout",
     "output_type": "stream",
     "text": [
      "label_i_num:20 label_j_num:61\n"
     ]
    }
   ],
   "source": [
    "def clean_str(x):\n",
    "    return x.replace('r', '').replace('\\t', ' ').replace('\\n', ' ')\n",
    "\n",
    "# 清晰和填补缺失值\n",
    "merge_col = ['diseaseName', 'conditionDesc', 'title', 'hopeHelp']\n",
    "for col in merge_col:\n",
    "    train[col].fillna('', inplace=True)\n",
    "    test[col].fillna('', inplace=True)\n",
    "    train[col] = train[col].apply(lambda x: clean_str(x))\n",
    "    test[col] = test[col].apply(lambda x: clean_str(x))\n",
    "\n",
    "# 拼接文本\n",
    "train[\"sentence\"] = [\",\".join([rows[jol] for jol in merge_col if len(rows[jol])>0]) for _,rows in train.iterrows()]\n",
    "test[\"sentence\"] = [\",\".join([rows[jol] for jol in merge_col if len(rows[jol])>0]) for _,rows in test.iterrows()]\n",
    "\n",
    "\n",
    "# 数据集划分\n",
    "train_ds, dev_ds, _, _ = train_test_split(train, train['id'], test_size=0.1, random_state=seed)\n",
    "\n",
    "# 转换为json\n",
    "def read(df, label_name=None):\n",
    "    if label_name:\n",
    "        for idx, rows in df.iterrows():\n",
    "            yield {'sentence': str(rows['sentence']), 'label': rows[label_name]}\n",
    "    else:\n",
    "        for idx, rows in df.iterrows():\n",
    "            yield {'sentence': str(rows['sentence'])}\n",
    "\n",
    "# label_i 训练集\n",
    "train_i_ds = train_ds[['sentence', 'label_i']]\n",
    "dev_i_ds = dev_ds[['sentence', 'label_i']]\n",
    "\n",
    "# label_j训练集，直接删除包含-1未知标签的样本\n",
    "train_j_ds = train_ds[[\"sentence\",\"label_j\"]]\n",
    "dev_j_ds = dev_ds[[\"sentence\",\"label_j\"]]\n",
    "train_j_ds = train_j_ds[train_j_ds[\"label_j\"]!=-1]\n",
    "dev_j_ds = dev_j_ds[dev_j_ds[\"label_j\"]!=-1]\n",
    "\n",
    "# 统计类别数量\n",
    "class_i_nums = train_i_ds[\"label_i\"].value_counts().shape[0]\n",
    "class_j_nums = train_j_ds[\"label_j\"].value_counts().shape[0]\n",
    "print(\"label_i_num:{} label_j_num:{}\".format(class_i_nums,class_j_nums))\n",
    "\n",
    "# 使用paddle的load_dataset，通过read函数，将所有数据转变为json格式\n",
    "train_i_ds = load_dataset(read,df=train_i_ds,label_name=\"label_i\",lazy=False)\n",
    "dev_i_ds = load_dataset(read,df=dev_i_ds,label_name=\"label_i\",lazy=False)\n",
    "\n",
    "train_j_ds = load_dataset(read,df=train_j_ds,label_name=\"label_j\",lazy=False)\n",
    "dev_j_ds = load_dataset(read,df=dev_j_ds,label_name=\"label_j\",lazy=False)\n",
    "\n",
    "# 测试集 \n",
    "test_ds = load_dataset(read,df=test[[\"sentence\"]],label_name=None,lazy=False)\n",
    "\n",
    "# 文本到BERT编码的函数\n",
    "def convert_example(example, tokenizer):\n",
    "    encoded_inputs = tokenizer(text=example[\"sentence\"],\n",
    "                               max_seq_len=max_seq_len,\n",
    "                               pad_to_max_seq_len=True)\n",
    "    return tuple([np.array(x, dtype=\"int64\") for x in [\n",
    "            encoded_inputs[\"input_ids\"], encoded_inputs[\"token_type_ids\"], [example[\"label\"]]]])\n",
    "\n",
    "def convert_predict_example(example, tokenizer):\n",
    "    encoded_inputs = tokenizer(text=example[\"sentence\"],\n",
    "                               max_seq_len=max_seq_len,\n",
    "                               pad_to_max_seq_len=True)\n",
    "    return tuple([np.array(x, dtype=\"int64\") for x in [\n",
    "            encoded_inputs[\"input_ids\"], encoded_inputs[\"token_type_ids\"]]])\n"
   ]
  },
  {
   "cell_type": "markdown",
   "metadata": {},
   "source": [
    "## 创建模型"
   ]
  },
  {
   "cell_type": "code",
   "execution_count": 17,
   "metadata": {},
   "outputs": [],
   "source": [
    "class TextClassification(nn.Layer):\n",
    "    def __init__(self, pretrained_model,num_class,dropout=None):\n",
    "        super().__init__()\n",
    "        self.ptm = pretrained_model\n",
    "        self.dropout = nn.Dropout(dropout if dropout is not None else 0.1)\n",
    "        self.classifier = nn.Linear(self.ptm.config[\"hidden_size\"], num_class)\n",
    "\n",
    "    def forward(self, input_ids, token_type_ids=None, position_ids=None, attention_mask=None):\n",
    "        _, cls_embedding = self.ptm(input_ids=input_ids, token_type_ids=token_type_ids,attention_mask=attention_mask)\n",
    "        cls_embedding = self.dropout(cls_embedding)\n",
    "        logits = self.classifier(cls_embedding)\n",
    "\n",
    "        return logits"
   ]
  },
  {
   "cell_type": "markdown",
   "metadata": {},
   "source": [
    "## 模型配置"
   ]
  },
  {
   "cell_type": "code",
   "execution_count": null,
   "metadata": {},
   "outputs": [],
   "source": []
  }
 ],
 "metadata": {
  "kernelspec": {
   "display_name": "Python 3.8.13 ('paddle')",
   "language": "python",
   "name": "python3"
  },
  "language_info": {
   "codemirror_mode": {
    "name": "ipython",
    "version": 3
   },
   "file_extension": ".py",
   "mimetype": "text/x-python",
   "name": "python",
   "nbconvert_exporter": "python",
   "pygments_lexer": "ipython3",
   "version": "3.8.13"
  },
  "orig_nbformat": 4,
  "vscode": {
   "interpreter": {
    "hash": "00e87ee32a74a135673fe49761a59a45404e7e4efd18a666671c08b7f16a4fe5"
   }
  }
 },
 "nbformat": 4,
 "nbformat_minor": 2
}
